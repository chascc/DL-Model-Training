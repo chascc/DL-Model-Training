{
 "cells": [
  {
   "cell_type": "code",
   "execution_count": 1,
   "metadata": {},
   "outputs": [],
   "source": [
    "import tensorflow as tf\n",
    "from tensorflow import keras\n",
    "import numpy as np\n",
    "import os\n",
    "import matplotlib.pyplot as plt\n",
    "from sklearn.model_selection import train_test_split\n",
    "from tensorflow.keras.preprocessing.image import ImageDataGenerator\n",
    "from tensorflow.keras.layers import Dense, Conv2D, MaxPooling2D, Flatten, Dropout\n",
    "from tensorflow.keras.models import Sequential"
   ]
  },
  {
   "cell_type": "code",
   "execution_count": null,
   "metadata": {},
   "outputs": [],
   "source": [
    "import os\n",
    "import zipfile\n",
    "import requests\n",
    "\n",
    "# GitHub URL for dataset zip\n",
    "zip_url = \"https://github.com/chascc/DL-Model-Training/archive/refs/heads/main.zip\"\n",
    "local_zip = \"data.zip\"\n",
    "\n",
    "# Download and extract dataset\n",
    "response = requests.get(zip_url)\n",
    "with open(local_zip, \"wb\") as f:\n",
    "    f.write(response.content)\n",
    "\n",
    "with zipfile.ZipFile(local_zip, \"r\") as zip_ref:\n",
    "    zip_ref.extractall(\".\")\n",
    "    \n",
    "# Update base directory for the dataset\n",
    "base_url = \"./DL-Model-Training-main/data/natural_images\"\n",
    "print(\"Dataset extracted to:\", base_url)"
   ]
  },
  {
   "cell_type": "code",
   "execution_count": null,
   "metadata": {},
   "outputs": [],
   "source": [
    "# Image dimensions\n",
    "img_h = 128\n",
    "img_w = 128\n",
    "\n",
    "# Data generators (with a validation split)\n",
    "data_gen = ImageDataGenerator(rescale=1./255, validation_split=0.2)\n",
    "\n",
    "# Training data loader\n",
    "load_train = data_gen.flow_from_directory(\n",
    "    base_url,\n",
    "    target_size=(img_h, img_w),\n",
    "    batch_size=32,\n",
    "    class_mode='categorical',\n",
    "    subset='training',\n",
    "    shuffle=True\n",
    ")\n",
    "\n",
    "# Validation data loader\n",
    "load_val = data_gen.flow_from_directory(\n",
    "    base_url,\n",
    "    target_size=(img_h, img_w),\n",
    "    batch_size=32,\n",
    "    class_mode='categorical',\n",
    "    subset='validation',\n",
    "    shuffle=True\n",
    ")\n",
    "\n"
   ]
  },
  {
   "cell_type": "code",
   "execution_count": null,
   "metadata": {},
   "outputs": [],
   "source": [
    "# Display class labels\n",
    "class_name = list(load_train.class_indices.keys())\n",
    "print(\"Class Labels:\", class_name)\n",
    "\n",
    "# Display example images\n",
    "plt.figure(figsize=(10, 5))\n",
    "for images, labels in load_train:\n",
    "    # Display 6 example images\n",
    "    for i in range(6): \n",
    "        plt.subplot(2, 3, i + 1)\n",
    "        plt.imshow(images[i])\n",
    "        plt.title(class_name[np.argmax(labels[i])])\n",
    "        plt.axis('off')\n",
    "    break\n",
    "plt.tight_layout()\n",
    "plt.show()\n"
   ]
  },
  {
   "cell_type": "code",
   "execution_count": null,
   "metadata": {},
   "outputs": [],
   "source": [
    "# Define the CNN model\n",
    "model = Sequential([\n",
    "    Conv2D(32, (3, 3), activation='relu', input_shape=(img_h, img_w, 3)),\n",
    "    MaxPooling2D((2, 2)),\n",
    "\n",
    "    Conv2D(64, (3, 3), activation='relu'),\n",
    "    MaxPooling2D((2, 2)),\n",
    "\n",
    "    Conv2D(128, (3, 3), activation='relu'),\n",
    "    MaxPooling2D((2, 2)),\n",
    "\n",
    "    Flatten(),\n",
    "    Dense(128, activation='relu'),\n",
    "    Dropout(0.5),\n",
    "    \n",
    "    # Output layer with softmax activation\n",
    "    Dense(len(class_name), activation='softmax') \n",
    "])\n",
    "\n",
    "# Display model summary\n",
    "model.summary()\n"
   ]
  },
  {
   "cell_type": "code",
   "execution_count": 6,
   "metadata": {},
   "outputs": [],
   "source": [
    "model.compile(optimizer='adam',\n",
    "              loss='categorical_crossentropy',\n",
    "              metrics=['accuracy'])"
   ]
  },
  {
   "cell_type": "code",
   "execution_count": null,
   "metadata": {},
   "outputs": [],
   "source": [
    "history = model.fit(\n",
    "    load_train,\n",
    "    validation_data=load_val,\n",
    "    epochs=10\n",
    ")\n",
    "model.save('natural_images_cnn_model.keras')\n"
   ]
  },
  {
   "cell_type": "code",
   "execution_count": null,
   "metadata": {},
   "outputs": [],
   "source": [
    "# Evaluates the model\n",
    "loss, accuracy = model.evaluate(load_val)\n",
    "print(f\"Validation Loss: {loss:.4f}\")\n",
    "print(f\"Validation Accuracy: {accuracy:.4f}\")"
   ]
  },
  {
   "cell_type": "code",
   "execution_count": null,
   "metadata": {},
   "outputs": [],
   "source": [
    "# Plots the training history\n",
    "plt.figure(figsize=(12, 5))\n",
    "\n",
    "# Accuracy plot\n",
    "plt.subplot(1, 2, 1)\n",
    "plt.plot(history.history['accuracy'], label='train accuracy')\n",
    "plt.plot(history.history['val_accuracy'], label='val accuracy')\n",
    "plt.title('Training and Validation Accuracy')\n",
    "plt.xlabel('Epochs')\n",
    "plt.ylabel('Accuracy')\n",
    "plt.legend()\n",
    "\n",
    "# Loss plot\n",
    "plt.subplot(1, 2, 2)\n",
    "plt.plot(history.history['loss'], label='train loss')\n",
    "plt.plot(history.history['val_loss'], label='val loss')\n",
    "plt.title('Training and Validation Loss')\n",
    "plt.xlabel('Epochs')\n",
    "plt.ylabel('Loss')\n",
    "plt.legend()\n",
    "\n",
    "plt.show()\n"
   ]
  },
  {
   "cell_type": "code",
   "execution_count": null,
   "metadata": {},
   "outputs": [],
   "source": [
    "# Predict some images from validation data\n",
    "import random\n",
    "\n",
    "# Gets a batch of images from the folder at random\n",
    "images, labels = next(load_val)\n",
    "sample_indices = random.sample(range(len(images)), 6)\n",
    "\n",
    "plt.figure(figsize=(10, 5))\n",
    "for i, idx in enumerate(sample_indices):\n",
    "    plt.subplot(2, 3, i + 1)\n",
    "    plt.imshow(images[idx])\n",
    "    predicted_class = class_name[np.argmax(model.predict(images[idx][np.newaxis, ...]))]\n",
    "    true_class = class_name[np.argmax(labels[idx])]\n",
    "    plt.title(f\"True: {true_class}\\nPred: {predicted_class}\")\n",
    "    plt.axis('off')\n",
    "plt.tight_layout()\n",
    "plt.show()"
   ]
  }
 ],
 "metadata": {
  "kernelspec": {
   "display_name": "Python 3",
   "language": "python",
   "name": "python3"
  },
  "language_info": {
   "codemirror_mode": {
    "name": "ipython",
    "version": 3
   },
   "file_extension": ".py",
   "mimetype": "text/x-python",
   "name": "python",
   "nbconvert_exporter": "python",
   "pygments_lexer": "ipython3",
   "version": "3.10.6"
  }
 },
 "nbformat": 4,
 "nbformat_minor": 2
}
