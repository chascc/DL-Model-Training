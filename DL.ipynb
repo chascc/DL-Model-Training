{
 "cells": [
  {
   "cell_type": "code",
   "execution_count": 1,
   "metadata": {},
   "outputs": [],
   "source": [
    "import tensorflow as tf\n",
    "from tensorflow import keras\n",
    "import numpy as np\n",
    "import os\n",
    "import matplotlib.pyplot as plt\n",
    "from sklearn.model_selection import train_test_split\n",
    "from tensorflow.keras.preprocessing.image import ImageDataGenerator\n",
    "from tensorflow.keras.layers import Dense, Conv2D, MaxPooling2D, Flatten, Dropout\n",
    "from tensorflow.keras.models import Sequential"
   ]
  },
  {
   "cell_type": "code",
   "execution_count": null,
   "metadata": {},
   "outputs": [],
   "source": [
    "import os\n",
    "import zipfile\n",
    "import requests\n",
    "\n",
    "# GitHub URL for dataset turned into zip\n",
    "zip_url = \"https://github.com/chascc/DL-Model-Training/archive/refs/heads/main.zip\"\n",
    "local_zip = \"data.zip\"\n",
    "\n",
    "# Download and extract dataset\n",
    "response = requests.get(zip_url)\n",
    "with open(local_zip, \"wb\") as f:\n",
    "    f.write(response.content)\n",
    "\n",
    "with zipfile.ZipFile(local_zip, \"r\") as zip_ref:\n",
    "    zip_ref.extractall(\".\")\n",
    "    \n",
    "# Updates the base directory for dataset\n",
    "base_url = \"./DL-Model-Training-main/data/natural_images\"\n",
    "print(\"Dataset:\", base_url)"
   ]
  },
  {
   "cell_type": "code",
   "execution_count": null,
   "metadata": {},
   "outputs": [],
   "source": [
    "# Image dimensions\n",
    "img_h = 128\n",
    "img_w = 128\n",
    "\n",
    "# Data generators with validation split that normalizes pixel values to range (0, 1)\n",
    "data_gen = ImageDataGenerator(rescale=1./255, validation_split=0.2)\n",
    "\n",
    "# Training data loader\n",
    "load_train = data_gen.flow_from_directory(\n",
    "    base_url,\n",
    "    # Resizes images to 128x128\n",
    "    target_size=(img_h, img_w),\n",
    "    batch_size=32,\n",
    "    # Multi class classification\n",
    "    class_mode='categorical',\n",
    "    subset='training',\n",
    "    shuffle=True\n",
    ")\n",
    "\n",
    "# Validation data loader\n",
    "load_val = data_gen.flow_from_directory(\n",
    "    base_url,\n",
    "    target_size=(img_h, img_w),\n",
    "    batch_size=32,\n",
    "    class_mode='categorical',\n",
    "    subset='validation',\n",
    "    shuffle=True\n",
    ")\n",
    "\n"
   ]
  },
  {
   "cell_type": "code",
   "execution_count": null,
   "metadata": {},
   "outputs": [],
   "source": [
    "# Displays the class labels\n",
    "class_name = list(load_train.class_indices.keys())\n",
    "print(\"Class labels:\", class_name)\n",
    "\n",
    "# Displays example images\n",
    "plt.figure(figsize=(10, 5))\n",
    "for images, labels in load_train:\n",
    "    # Displays 6 randomized example images\n",
    "    for i in range(6): \n",
    "        # Create a 3x3 grid for images to test for successful reference\n",
    "        plt.subplot(2, 3, i + 1)\n",
    "        plt.imshow(images[i])\n",
    "        # Uses the class label as title\n",
    "        plt.title(class_name[np.argmax(labels[i])])\n",
    "        plt.axis('off')\n",
    "    break\n",
    "# Alters the spacing between grids\n",
    "plt.tight_layout()\n",
    "plt.show()\n",
    "0"
   ]
  },
  {
   "cell_type": "code",
   "execution_count": null,
   "metadata": {},
   "outputs": [],
   "source": [
    "# Defines the CNN model\n",
    "model = Sequential([\n",
    "    Conv2D(32, (3, 3), activation='relu', input_shape=(img_h, img_w, 3)), # Convolution 1\n",
    "    MaxPooling2D((2, 2)),\n",
    "    Conv2D(64, (3, 3), activation='relu'), # Convolution 2\n",
    "    MaxPooling2D((2, 2)),\n",
    "    Conv2D(128, (3, 3), activation='relu'), # Convolution 3\n",
    "    MaxPooling2D((2, 2)),\n",
    "    Flatten(),\n",
    "    Dense(128, activation='relu'), # Full Connection\n",
    "    Dropout(0.5), \n",
    "    # Output layer with softmax activation\n",
    "    Dense(len(class_name), activation='softmax')\n",
    "])\n",
    "\n",
    "# Displays a model summary\n",
    "model.summary()\n"
   ]
  },
  {
   "cell_type": "code",
   "execution_count": 12,
   "metadata": {},
   "outputs": [],
   "source": [
    "# Compiles the CNN model using adam optimizer and loss function for multi class\n",
    "model.compile(optimizer='adam', loss='categorical_crossentropy', metrics=['accuracy'])"
   ]
  },
  {
   "cell_type": "code",
   "execution_count": null,
   "metadata": {},
   "outputs": [],
   "source": [
    "# Trains the CNN model using training data and val data with 10 epochs\n",
    "history = model.fit(load_train, validation_data=load_val, epochs=10)\n",
    "# Saves for repeated use\n",
    "model.save('natural_images_cnn_model.keras')\n"
   ]
  },
  {
   "cell_type": "code",
   "execution_count": null,
   "metadata": {},
   "outputs": [],
   "source": [
    "# Evaluates the model\n",
    "loss, accuracy = model.evaluate(load_val)\n",
    "print(f\"Total Loss of Validation: {loss:.4f}\")\n",
    "print(f\"Total Accuracy of Validation: {accuracy:.4f}\")"
   ]
  },
  {
   "cell_type": "code",
   "execution_count": null,
   "metadata": {},
   "outputs": [],
   "source": [
    "# Plots the training history\n",
    "plt.figure(figsize=(12, 5))\n",
    "\n",
    "# Plots the training and validation accuracy\n",
    "plt.subplot(1, 2, 1)\n",
    "plt.plot(history.history['accuracy'], label='train accuracy')\n",
    "plt.plot(history.history['val_accuracy'], label='val accuracy')\n",
    "plt.title('Training and Validation Accuracy')\n",
    "plt.xlabel('Epochs')\n",
    "plt.ylabel('Accuracy')\n",
    "plt.legend()\n",
    "\n",
    "# Plots the training and validation loss\n",
    "plt.subplot(1, 2, 2)\n",
    "plt.plot(history.history['loss'], label='train loss')\n",
    "plt.plot(history.history['val_loss'], label='val loss')\n",
    "plt.title('Training and Validation Loss')\n",
    "plt.xlabel('Epochs')\n",
    "plt.ylabel('Loss')\n",
    "plt.legend()\n",
    "\n",
    "plt.show()\n"
   ]
  },
  {
   "cell_type": "code",
   "execution_count": null,
   "metadata": {},
   "outputs": [],
   "source": [
    "# Predict some images from validation data\n",
    "import random\n",
    "\n",
    "# Gets a batch of images from the folder at random\n",
    "images, labels = next(load_val)\n",
    "sample_indices = random.sample(range(len(images)), 6)\n",
    "\n",
    "plt.figure(figsize=(10, 5))\n",
    "for i, idx in enumerate(sample_indices):\n",
    "    plt.subplot(2, 3, i + 1)\n",
    "    plt.imshow(images[idx])\n",
    "    # Predicts the class for the image using newly trained model\n",
    "    pred_class = class_name[np.argmax(model.predict(images[idx][np.newaxis, ...]))]\n",
    "    # Displays the actual name for class\n",
    "    true_class = class_name[np.argmax(labels[idx])]\n",
    "    plt.title(f\"True: {true_class}\\nPred: {pred_class}\")\n",
    "    plt.axis('off')\n",
    "plt.tight_layout()\n",
    "plt.show()"
   ]
  }
 ],
 "metadata": {
  "kernelspec": {
   "display_name": "Python 3",
   "language": "python",
   "name": "python3"
  },
  "language_info": {
   "codemirror_mode": {
    "name": "ipython",
    "version": 3
   },
   "file_extension": ".py",
   "mimetype": "text/x-python",
   "name": "python",
   "nbconvert_exporter": "python",
   "pygments_lexer": "ipython3",
   "version": "3.10.6"
  }
 },
 "nbformat": 4,
 "nbformat_minor": 2
}
